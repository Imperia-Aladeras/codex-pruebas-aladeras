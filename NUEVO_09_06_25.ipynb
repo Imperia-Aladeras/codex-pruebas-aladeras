{
 "cells": [
  {
   "cell_type": "code",
   "execution_count": null,
   "id": "a08bbfc6",
   "metadata": {},
   "outputs": [
    {
     "name": "stdout",
     "output_type": "stream",
     "text": [
      "Note: you may need to restart the kernel to use updated packages.\n"
     ]
    },
    {
     "name": "stderr",
     "output_type": "stream",
     "text": [
      "ERROR: You must give at least one requirement to install (see \"pip help install\")\n"
     ]
    }
   ],
   "source": [
    "%pip install U"
   ]
  },
  {
   "cell_type": "code",
   "execution_count": 7,
   "id": "6a65d547",
   "metadata": {},
   "outputs": [],
   "source": [
    "import pandas as pd\n",
    "import numpy as np\n",
    "import matplotlib.pyplot as plt\n",
    "import csv"
   ]
  },
  {
   "cell_type": "code",
   "execution_count": 25,
   "id": "94726629",
   "metadata": {},
   "outputs": [],
   "source": [
    "# 1) Lectura inicial\n",
    "df_varma = pd.read_csv(\n",
    "    'Varma.csv',\n",
    "    sep=',',\n",
    "    header=None,\n",
    "    skiprows=1,\n",
    "    names=['ds', 'y', 'unique_id'],\n",
    "    quoting=csv.QUOTE_NONE,\n",
    "    engine='python'\n",
    ")"
   ]
  },
  {
   "cell_type": "code",
   "execution_count": 26,
   "id": "a178e35d",
   "metadata": {},
   "outputs": [],
   "source": [
    "# 2) Limpiar comillas sobrantes\n",
    "df_varma['ds']       = df_varma['ds'].str.strip('\"')\n",
    "df_varma['unique_id']= df_varma['unique_id'].str.strip('\"')"
   ]
  },
  {
   "cell_type": "code",
   "execution_count": 27,
   "id": "5735a950",
   "metadata": {},
   "outputs": [],
   "source": [
    "# 3) Convertir tipos\n",
    "df_varma['ds'] = pd.to_datetime(df_varma['ds'], format='%Y%m')    # datetime64[ns]\n",
    "df_varma['y']  = pd.to_numeric(df_varma['y'], errors='coerce').fillna(0)  # float"
   ]
  },
  {
   "cell_type": "code",
   "execution_count": 28,
   "id": "1a472168",
   "metadata": {},
   "outputs": [],
   "source": [
    "# 4) Completar series mensuales sin saltos\n",
    "#   4.1 Orden y MultiIndex\n",
    "df_varma = df_varma.sort_values(['unique_id','ds'])\n",
    "df_varma = df_varma.set_index(['unique_id','ds'])\n",
    "\n",
    "#   4.2 Generar índice completo (todos los IDs × cada mes del rango)\n",
    "all_ids   = df_varma.index.get_level_values('unique_id').unique()\n",
    "full_months = pd.date_range(\n",
    "    start=df_varma.index.get_level_values('ds').min(),\n",
    "    end  =df_varma.index.get_level_values('ds').max(),\n",
    "    freq ='MS'\n",
    ")\n",
    "full_index = pd.MultiIndex.from_product(\n",
    "    [all_ids, full_months],\n",
    "    names=['unique_id','ds']\n",
    ")\n",
    "\n",
    "#   4.3 Reindexar rellenando y=0 donde faltara\n",
    "df_complete = (\n",
    "    df_varma\n",
    "    .reindex(full_index, fill_value=0)\n",
    "    .reset_index()   # volvemos a columnas “normales”\n",
    ")"
   ]
  },
  {
   "cell_type": "code",
   "execution_count": 29,
   "id": "3a7364a0",
   "metadata": {},
   "outputs": [],
   "source": [
    "# 5) Asegurar orden final\n",
    "df_complete = df_complete.sort_values(['unique_id','ds'], ignore_index=True)"
   ]
  },
  {
   "cell_type": "code",
   "execution_count": 30,
   "id": "2efea77a",
   "metadata": {},
   "outputs": [
    {
     "name": "stdout",
     "output_type": "stream",
     "text": [
      "unique_id            object\n",
      "ds           datetime64[ns]\n",
      "y                   float64\n",
      "dtype: object\n",
      "    unique_id         ds     y\n",
      "0  0102300062 2023-01-01   3.0\n",
      "1  0102300062 2023-02-01   1.0\n",
      "2  0102300062 2023-03-01   3.0\n",
      "3  0102300062 2023-04-01   0.0\n",
      "4  0102300062 2023-05-01   3.0\n",
      "5  0102300062 2023-06-01  14.0\n",
      "6  0102300062 2023-07-01  30.0\n",
      "7  0102300062 2023-08-01   0.0\n",
      "(10950, 3)\n"
     ]
    }
   ],
   "source": [
    "# 6) Verificación\n",
    "print(df_complete.dtypes)\n",
    "# unique_id     object\n",
    "# ds           datetime64[ns]\n",
    "# y             float64\n",
    "# dtype: object\n",
    "\n",
    "print(df_complete.head(8))\n",
    "#   unique_id         ds    y\n",
    "# 0  0102300062 2023-01-01  3.0\n",
    "# 1  0102300062 2023-02-01  1.0\n",
    "# ...\n",
    "\n",
    "print(df_complete.shape)  # p.ej. (n_series * n_meses, 3)"
   ]
  },
  {
   "cell_type": "markdown",
   "id": "31f1772d",
   "metadata": {},
   "source": [
    "Qué consigues con esto:\n",
    "1. Formato “largo” de tres columnas:\n",
    "    - unique_id: identificador de la serie.\n",
    "    - ds: fechas mensuales como datetime64[ns].\n",
    "    - y: demanda numérica (float, con ceros para faltantes).\n",
    "\n",
    "2. Serie completa y regular:\n",
    "    - Cada (unique_id, ds) para todos los meses entre el mínimo y el máximo.\n",
    "    - Relleno con y = 0 donde no había observación.\n",
    "\n",
    "3. Orden y tipos correctos:\n",
    "    - Orden ascendente por (unique_id, ds).\n",
    "    - ds es datetime64[ns] y y es numérico."
   ]
  },
  {
   "cell_type": "markdown",
   "id": "8c3934df",
   "metadata": {},
   "source": [
    "---"
   ]
  },
  {
   "cell_type": "code",
   "execution_count": 33,
   "id": "d406ea87",
   "metadata": {},
   "outputs": [],
   "source": [
    "# 1. Carga del Excel (ajusta sheet_name si no es la primera hoja)\n",
    "file_path_noel = r\"C:\\OneDrive\\OneDrive - IMPERIA SCM CONSULTING, S.L\\MyPyProjects\\Pro000\\Noel_Test.xlsx\"\n",
    "df_excel = pd.read_excel(file_path_noel)"
   ]
  },
  {
   "cell_type": "code",
   "execution_count": 34,
   "id": "2408f1be",
   "metadata": {},
   "outputs": [],
   "source": [
    "# 2. Renombrar columnas si es necesario\n",
    "#    Supongamos que tus columnas originales se llaman: 'fecha', 'demanda', 'producto'\n",
    "#    Ajusta estos nombres al leer tu Excel real.\n",
    "df_excel = df_excel.rename(columns={\n",
    "    'CODE_MONTH': 'ds',\n",
    "    'TOTAL_AMOUNT': 'y',\n",
    "    'PRODUCT_CODE': 'unique_id'\n",
    "})"
   ]
  },
  {
   "cell_type": "code",
   "execution_count": 35,
   "id": "1ad8783e",
   "metadata": {},
   "outputs": [],
   "source": [
    "# 3. Limpiar comillas (si las hubiera)\n",
    "df_excel['ds']        = df_excel['ds'].astype(str).str.strip('\"')\n",
    "df_excel['unique_id'] = df_excel['unique_id'].astype(str).str.strip('\"')"
   ]
  },
  {
   "cell_type": "code",
   "execution_count": 36,
   "id": "68349948",
   "metadata": {},
   "outputs": [],
   "source": [
    "# 4. Convertir tipos\n",
    "df_excel['ds'] = pd.to_datetime(df_excel['ds'], format='%Y%m')  # o ajusta el formato según tu Excel\n",
    "df_excel['y']  = pd.to_numeric(df_excel['y'], errors='coerce').fillna(0)"
   ]
  },
  {
   "cell_type": "code",
   "execution_count": 37,
   "id": "3064db00",
   "metadata": {},
   "outputs": [],
   "source": [
    "# 5. Completar series mensuales\n",
    "df_excel = df_excel.sort_values(['unique_id','ds'])\n",
    "df_excel = df_excel.set_index(['unique_id','ds'])\n",
    "\n",
    "all_ids    = df_excel.index.get_level_values('unique_id').unique()\n",
    "full_months = pd.date_range(\n",
    "    start=df_excel.index.get_level_values('ds').min(),\n",
    "    end  =df_excel.index.get_level_values('ds').max(),\n",
    "    freq ='MS'\n",
    ")\n",
    "full_index = pd.MultiIndex.from_product(\n",
    "    [all_ids, full_months],\n",
    "    names=['unique_id','ds']\n",
    ")\n",
    "\n",
    "df_excel_complete = (\n",
    "    df_excel\n",
    "    .reindex(full_index, fill_value=0)\n",
    "    .reset_index()\n",
    "    .sort_values(['unique_id','ds'], ignore_index=True)\n",
    ")"
   ]
  },
  {
   "cell_type": "code",
   "execution_count": 38,
   "id": "2b89d181",
   "metadata": {},
   "outputs": [
    {
     "name": "stdout",
     "output_type": "stream",
     "text": [
      "unique_id            object\n",
      "ds           datetime64[ns]\n",
      "y                   float64\n",
      "dtype: object\n",
      "  unique_id         ds         y\n",
      "0     12193 2019-01-01  17148.81\n",
      "1     12193 2019-02-01  18449.09\n",
      "2     12193 2019-03-01  16504.88\n",
      "3     12193 2019-04-01  16862.63\n",
      "4     12193 2019-05-01      0.00\n",
      "Shape: (24776, 3)\n"
     ]
    }
   ],
   "source": [
    "# 6. Verificación\n",
    "print(df_excel_complete.dtypes)\n",
    "print(df_excel_complete.head())\n",
    "print(\"Shape:\", df_excel_complete.shape)"
   ]
  },
  {
   "cell_type": "markdown",
   "id": "9f1d5eaa",
   "metadata": {},
   "source": [
    "---"
   ]
  },
  {
   "cell_type": "code",
   "execution_count": 40,
   "id": "67ad5698",
   "metadata": {},
   "outputs": [],
   "source": [
    "# GUARDADO DE LOS DF OBTENIDOS\n",
    "df_complete.to_excel('df_varma.xlsx', index=False)\n",
    "df_excel_complete.to_excel('df_noel.xlsx', index=False)"
   ]
  },
  {
   "cell_type": "markdown",
   "id": "db52a48d",
   "metadata": {},
   "source": [
    "---"
   ]
  },
  {
   "cell_type": "markdown",
   "id": "f204421f",
   "metadata": {},
   "source": [
    "# Intermittent or Sparse Data"
   ]
  },
  {
   "cell_type": "markdown",
   "id": "ddd3997a",
   "metadata": {},
   "source": [
    "## Exploración"
   ]
  },
  {
   "cell_type": "markdown",
   "id": "132626e9",
   "metadata": {},
   "source": [
    "Cada serie temporal representa las demandas de un producto específico. A este nivel, mayoría de los datos es intermitnete."
   ]
  },
  {
   "cell_type": "code",
   "execution_count": null,
   "id": "c8e103c7",
   "metadata": {},
   "outputs": [],
   "source": [
    "#"
   ]
  }
 ],
 "metadata": {
  "kernelspec": {
   "display_name": ".venv",
   "language": "python",
   "name": "python3"
  },
  "language_info": {
   "codemirror_mode": {
    "name": "ipython",
    "version": 3
   },
   "file_extension": ".py",
   "mimetype": "text/x-python",
   "name": "python",
   "nbconvert_exporter": "python",
   "pygments_lexer": "ipython3",
   "version": "3.13.5"
  }
 },
 "nbformat": 4,
 "nbformat_minor": 5
}
